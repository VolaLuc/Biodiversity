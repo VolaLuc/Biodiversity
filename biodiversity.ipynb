{
 "cells": [
  {
   "cell_type": "markdown",
   "metadata": {},
   "source": [
    "# Introduction\n",
    "For this project, the goal is to analyze biodiversity data from the National Parks Service about endangered species in different parks.\n",
    "\n",
    "This project will scope, analyze, prepare, plot data, and seek to explain the findings from the analysis.\n",
    "\n",
    "**Data sources:**\n",
    "\n",
    "Both `Observations.csv` and `Species_info.csv` was provided by [Codecademy.com](https://www.codecademy.com).\n",
    "\n",
    "Note: The data for this project is *inspired* by real data, but is mostly fictional."
   ]
  },
  {
   "cell_type": "markdown",
   "metadata": {},
   "source": [
    "## Scoping\n",
    "\n",
    "Four sections were created below to help guide the project's process and progress.\n",
    "The first section is the project goals, this section will define the high-level objectives and set the intentions for this project.\n",
    "The next section is the data, luckily in this project, data is already provided but still needs to be checked if project goals can be met with the available data.\n",
    "Thirdly, the analysis will have to be thought through, which include the methods and questions that are aligned with the project goals.\n",
    "Lastly, evaluation will help us build conclusions and findings from our analysis.\n",
    "\n",
    "### Project Goals\n",
    "\n",
    "In this project the perspective will be through a biodiversity analyst for the National Parks Service. The National Park Service wants to ensure the survival of at-risk species, to maintain the level of biodiversity within their parks. Therefore, the main objectives as an analyst will be understanding characteristics about the species and their conservations status, and those species and their relationship to the national parks. Some questions that are posed:\n",
    "\n",
    "- What is the distribution of conservation status for species?\n",
    "- Are certain types of species more likely to be endangered?\n",
    "- Are the differences between species and their conservation status significant?\n",
    "- Which animal is most prevalent and what is their distribution amongst parks?\n",
    "- What is the species distribution amongst parks?\n",
    "\n",
    "### Data\n",
    "\n",
    "This project has two data sets that came with the package. The first `csv` file has information about each species and another has observations of species with park locations. This data will be used to analyze the goals of the project. \n",
    "\n",
    "### Analysis\n",
    "\n",
    "In this section, descriptive statistics and data visualization techniques will be employed to understand the data better. Statistical inference will also be used to test if the observed values are statistically significant. Some of the key metrics that will be computed include: \n",
    "\n",
    "1. Distributions\n",
    "1. counts\n",
    "1. relationship between species\n",
    "1. conservation status of species\n",
    "1. observations of species in parks. \n",
    "\n",
    "### Evaluation\n",
    "\n",
    "Lastly, it's a good idea to revisit the goals and check if the output of the analysis corresponds to the questions first set to be answered (in the goals section). This section will also reflect on what has been learned through the process, and if any of the questions were unable to be answered. This could also include limitations or if any of the analysis could have been done using different methodologies.\n"
   ]
  },
  {
   "cell_type": "markdown",
   "metadata": {},
   "source": [
    "# Loading the Data"
   ]
  },
  {
   "cell_type": "code",
   "execution_count": 52,
   "metadata": {},
   "outputs": [
    {
     "name": "stdout",
     "output_type": "stream",
     "text": [
      "Index(['category', 'scientific_name', 'common_names', 'conservation_status'], dtype='object')\n",
      "Index(['scientific_name', 'park_name', 'observations'], dtype='object')\n"
     ]
    }
   ],
   "source": [
    "import pandas as pd\n",
    "import numpy as np\n",
    "import matplotlib.pyplot as plt\n",
    "import seaborn as sns\n",
    "\n",
    "# species_info.csv - contains data about different species and their conservation status\n",
    "species = pd.read_csv(\"species_info.csv\")\n",
    "print(species.columns)\n",
    "# observations.csv - holds recorded sightings of different species at several national parks for the past 7 days.\n",
    "observations = pd.read_csv(\"observations.csv\")\n",
    "print(observations.columns)"
   ]
  },
  {
   "cell_type": "markdown",
   "metadata": {},
   "source": [
    "## Species\n",
    "The 'species_info.csv' contains information on the censused species in the National Parks.\n",
    "Each row of the data set includes:\n",
    "\n",
    "- **category** - The category of the species\n",
    "- **scientific_name** - The scientific name of tthe species\n",
    "- **common_names** - The common names the species\n",
    "- **conservation_status** - The species' conservation status"
   ]
  },
  {
   "cell_type": "markdown",
   "metadata": {},
   "source": [
    "### Exploring the Data"
   ]
  },
  {
   "cell_type": "code",
   "execution_count": 53,
   "metadata": {},
   "outputs": [
    {
     "name": "stdout",
     "output_type": "stream",
     "text": [
      "<class 'pandas.core.frame.DataFrame'>\n",
      "RangeIndex: 5824 entries, 0 to 5823\n",
      "Data columns (total 4 columns):\n",
      " #   Column               Non-Null Count  Dtype \n",
      "---  ------               --------------  ----- \n",
      " 0   category             5824 non-null   object\n",
      " 1   scientific_name      5824 non-null   object\n",
      " 2   common_names         5824 non-null   object\n",
      " 3   conservation_status  191 non-null    object\n",
      "dtypes: object(4)\n",
      "memory usage: 182.1+ KB\n",
      "['Mammal' 'Bird' 'Reptile' 'Amphibian' 'Fish' 'Vascular Plant'\n",
      " 'Nonvascular Plant']\n"
     ]
    }
   ],
   "source": [
    "species.info()\n",
    "#print(species.shape) #Le informazioni sono troppe sommarie con .shape\n",
    "print(species.category.unique())"
   ]
  },
  {
   "cell_type": "markdown",
   "metadata": {},
   "source": [
    "The data contains 5824 censused species divided in the following categories:\n",
    "- Mammal\n",
    "- Bird\n",
    "- Reptile\n",
    "- Amphibian\n",
    "- Fish\n",
    "- Vascular Plant\n",
    "- Non-vascular Plant\n",
    "\n",
    "The censused species include both animals and plants.\n",
    "\n",
    "However, there are only 5541 distinct scientific names. Some species have many commmon names."
   ]
  },
  {
   "cell_type": "code",
   "execution_count": 54,
   "metadata": {},
   "outputs": [
    {
     "name": "stdout",
     "output_type": "stream",
     "text": [
      "<class 'pandas.core.frame.DataFrame'>\n",
      "RangeIndex: 5541 entries, 0 to 5540\n",
      "Data columns (total 2 columns):\n",
      " #   Column           Non-Null Count  Dtype \n",
      "---  ------           --------------  ----- \n",
      " 0   scientific_name  5541 non-null   object\n",
      " 1   common_names     5541 non-null   object\n",
      "dtypes: object(2)\n",
      "memory usage: 86.7+ KB\n"
     ]
    }
   ],
   "source": [
    "only_names = species.groupby('scientific_name')['common_names'].agg(lambda x: ', '.join(x)).reset_index()\n",
    "only_names.info()"
   ]
  },
  {
   "cell_type": "code",
   "execution_count": 55,
   "metadata": {},
   "outputs": [
    {
     "name": "stdout",
     "output_type": "stream",
     "text": [
      "<class 'pandas.core.frame.DataFrame'>\n",
      "Index: 5541 entries, 0 to 5823\n",
      "Data columns (total 4 columns):\n",
      " #   Column               Non-Null Count  Dtype \n",
      "---  ------               --------------  ----- \n",
      " 0   category             5541 non-null   object\n",
      " 1   scientific_name      5541 non-null   object\n",
      " 2   common_names         5541 non-null   object\n",
      " 3   conservation_status  178 non-null    object\n",
      "dtypes: object(4)\n",
      "memory usage: 216.4+ KB\n"
     ]
    }
   ],
   "source": [
    "species_no_duplicates_scientific_name = species.drop_duplicates(subset='scientific_name')\n",
    "species_no_duplicates_scientific_name.info()"
   ]
  },
  {
   "cell_type": "code",
   "execution_count": 57,
   "metadata": {},
   "outputs": [
    {
     "name": "stdout",
     "output_type": "stream",
     "text": [
      "0                             Gapper's Red-Backed Vole\n",
      "1                                American Bison, Bison\n",
      "2    Aurochs, Aurochs, Domestic Cattle (Feral), Dom...\n",
      "3    Domestic Sheep, Mouflon, Red Sheep, Sheep (Feral)\n",
      "4                    Wapiti Or Elk, Rocky Mountain Elk\n",
      "Name: common_names, dtype: object\n"
     ]
    },
    {
     "name": "stderr",
     "output_type": "stream",
     "text": [
      "C:\\Users\\Andriatinavola.Luc\\AppData\\Local\\Temp\\ipykernel_4572\\4146356077.py:3: SettingWithCopyWarning: \n",
      "A value is trying to be set on a copy of a slice from a DataFrame.\n",
      "Try using .loc[row_indexer,col_indexer] = value instead\n",
      "\n",
      "See the caveats in the documentation: https://pandas.pydata.org/pandas-docs/stable/user_guide/indexing.html#returning-a-view-versus-a-copy\n",
      "  species_no_duplicates_scientific_name['common_names'] = species_compact['common_names_y']\n"
     ]
    }
   ],
   "source": [
    "species_compact = species_no_duplicates_scientific_name.merge(\n",
    "    only_names[['scientific_name','common_names']], on='scientific_name', how='left')\n",
    "species_no_duplicates_scientific_name['common_names'] = species_compact['common_names_y']"
   ]
  },
  {
   "cell_type": "markdown",
   "metadata": {},
   "source": [
    "#### Category Count\n",
    "The vascular plant is the category with the higher number of species. Followed by the birds. The plant species have generally more diversity."
   ]
  },
  {
   "cell_type": "code",
   "execution_count": 58,
   "metadata": {},
   "outputs": [
    {
     "name": "stdout",
     "output_type": "stream",
     "text": [
      "conservation_status\n",
      "Endangered             15\n",
      "In Recovery             3\n",
      "Species of Concern    151\n",
      "Threatened              9\n",
      "dtype: int64\n",
      "There are 5363 na values.\n"
     ]
    }
   ],
   "source": [
    "print(species_no_duplicates_scientific_name.groupby('conservation_status').size())\n",
    "print('There are '+str(species_no_duplicates_scientific_name.conservation_status.isna().sum())+' na values.')"
   ]
  },
  {
   "cell_type": "markdown",
   "metadata": {},
   "source": [
    "#### Conservation Status\n",
    "The data lists the followong conservation status for the species:\n",
    "- Endangered\n",
    "- Threatened\n",
    "- Species of concern\n",
    "- In recovery\n",
    "\n",
    "Some species do not have a 'conservation status'. Normally, dealing with missing data should be done with care but in this case, the 'na' rows are species without risks.\n",
    "From the category count table, the category with the most species under srutiny is the \"Bird\" category."
   ]
  },
  {
   "cell_type": "markdown",
   "metadata": {},
   "source": [
    "## Observations\n",
    "\n",
    "The file 'observations.csv' holds recorded sightings of different species at several national parks for the past 7 days."
   ]
  },
  {
   "cell_type": "code",
   "execution_count": 59,
   "metadata": {},
   "outputs": [
    {
     "name": "stdout",
     "output_type": "stream",
     "text": [
      "<class 'pandas.core.frame.DataFrame'>\n",
      "RangeIndex: 23296 entries, 0 to 23295\n",
      "Data columns (total 3 columns):\n",
      " #   Column           Non-Null Count  Dtype \n",
      "---  ------           --------------  ----- \n",
      " 0   scientific_name  23296 non-null  object\n",
      " 1   park_name        23296 non-null  object\n",
      " 2   observations     23296 non-null  int64 \n",
      "dtypes: int64(1), object(2)\n",
      "memory usage: 546.1+ KB\n"
     ]
    }
   ],
   "source": [
    "observations.info()"
   ]
  },
  {
   "cell_type": "markdown",
   "metadata": {},
   "source": [
    "### Exploring the Data\n",
    "\n",
    "The data set contains 3 columns. The first column identifies to the observed species. The second gives the name of the park where the observation was made and the last column shows the number of observed specimens. There are a total of 23296 rows inside the data set."
   ]
  },
  {
   "cell_type": "code",
   "execution_count": 60,
   "metadata": {},
   "outputs": [
    {
     "data": {
      "text/html": [
       "<div>\n",
       "<style scoped>\n",
       "    .dataframe tbody tr th:only-of-type {\n",
       "        vertical-align: middle;\n",
       "    }\n",
       "\n",
       "    .dataframe tbody tr th {\n",
       "        vertical-align: top;\n",
       "    }\n",
       "\n",
       "    .dataframe thead th {\n",
       "        text-align: right;\n",
       "    }\n",
       "</style>\n",
       "<table border=\"1\" class=\"dataframe\">\n",
       "  <thead>\n",
       "    <tr style=\"text-align: right;\">\n",
       "      <th></th>\n",
       "      <th>category</th>\n",
       "      <th>scientific_name</th>\n",
       "      <th>common_names</th>\n",
       "    </tr>\n",
       "    <tr>\n",
       "      <th>conservation_status</th>\n",
       "      <th></th>\n",
       "      <th></th>\n",
       "      <th></th>\n",
       "    </tr>\n",
       "  </thead>\n",
       "  <tbody>\n",
       "    <tr>\n",
       "      <th>Endangered</th>\n",
       "      <td>15</td>\n",
       "      <td>15</td>\n",
       "      <td>15</td>\n",
       "    </tr>\n",
       "    <tr>\n",
       "      <th>In Recovery</th>\n",
       "      <td>3</td>\n",
       "      <td>3</td>\n",
       "      <td>3</td>\n",
       "    </tr>\n",
       "    <tr>\n",
       "      <th>Species of Concern</th>\n",
       "      <td>151</td>\n",
       "      <td>151</td>\n",
       "      <td>150</td>\n",
       "    </tr>\n",
       "    <tr>\n",
       "      <th>Threatened</th>\n",
       "      <td>9</td>\n",
       "      <td>9</td>\n",
       "      <td>9</td>\n",
       "    </tr>\n",
       "  </tbody>\n",
       "</table>\n",
       "</div>"
      ],
      "text/plain": [
       "                     category  scientific_name  common_names\n",
       "conservation_status                                         \n",
       "Endangered                 15               15            15\n",
       "In Recovery                 3                3             3\n",
       "Species of Concern        151              151           150\n",
       "Threatened                  9                9             9"
      ]
     },
     "execution_count": 60,
     "metadata": {},
     "output_type": "execute_result"
    }
   ],
   "source": [
    "species_no_duplicates_scientific_name.groupby('conservation_status').count()"
   ]
  },
  {
   "cell_type": "code",
   "execution_count": 61,
   "metadata": {},
   "outputs": [
    {
     "name": "stdout",
     "output_type": "stream",
     "text": [
      "['Great Smoky Mountains National Park' 'Yosemite National Park'\n",
      " 'Bryce National Park' 'Yellowstone National Park']\n"
     ]
    }
   ],
   "source": [
    "print(observations.park_name.unique())"
   ]
  },
  {
   "cell_type": "markdown",
   "metadata": {},
   "source": [
    "#### Parks\n",
    "There are four parks inside the data set:\n",
    "- Great Smoky Mountains National Park\n",
    "- Yosemite National Park\n",
    "- Bryce National Park\n",
    "- Yellowstone National Park"
   ]
  },
  {
   "cell_type": "markdown",
   "metadata": {},
   "source": [
    "# Analysis\n",
    "\n",
    "To avoid future errors handling the data, we replace the na values into 'Not considered'."
   ]
  },
  {
   "cell_type": "code",
   "execution_count": 62,
   "metadata": {},
   "outputs": [
    {
     "name": "stderr",
     "output_type": "stream",
     "text": [
      "C:\\Users\\Andriatinavola.Luc\\AppData\\Local\\Temp\\ipykernel_4572\\394775847.py:2: SettingWithCopyWarning: \n",
      "A value is trying to be set on a copy of a slice from a DataFrame\n",
      "\n",
      "See the caveats in the documentation: https://pandas.pydata.org/pandas-docs/stable/user_guide/indexing.html#returning-a-view-versus-a-copy\n",
      "  scientific_name.fillna('Not considered', inplace= True)\n"
     ]
    },
    {
     "data": {
      "text/html": [
       "<div>\n",
       "<style scoped>\n",
       "    .dataframe tbody tr th:only-of-type {\n",
       "        vertical-align: middle;\n",
       "    }\n",
       "\n",
       "    .dataframe tbody tr th {\n",
       "        vertical-align: top;\n",
       "    }\n",
       "\n",
       "    .dataframe thead th {\n",
       "        text-align: right;\n",
       "    }\n",
       "</style>\n",
       "<table border=\"1\" class=\"dataframe\">\n",
       "  <thead>\n",
       "    <tr style=\"text-align: right;\">\n",
       "      <th></th>\n",
       "      <th>category</th>\n",
       "      <th>scientific_name</th>\n",
       "      <th>common_names</th>\n",
       "    </tr>\n",
       "    <tr>\n",
       "      <th>conservation_status</th>\n",
       "      <th></th>\n",
       "      <th></th>\n",
       "      <th></th>\n",
       "    </tr>\n",
       "  </thead>\n",
       "  <tbody>\n",
       "    <tr>\n",
       "      <th>Endangered</th>\n",
       "      <td>15</td>\n",
       "      <td>15</td>\n",
       "      <td>15</td>\n",
       "    </tr>\n",
       "    <tr>\n",
       "      <th>In Recovery</th>\n",
       "      <td>3</td>\n",
       "      <td>3</td>\n",
       "      <td>3</td>\n",
       "    </tr>\n",
       "    <tr>\n",
       "      <th>Not considered</th>\n",
       "      <td>5363</td>\n",
       "      <td>5363</td>\n",
       "      <td>5363</td>\n",
       "    </tr>\n",
       "    <tr>\n",
       "      <th>Species of Concern</th>\n",
       "      <td>151</td>\n",
       "      <td>151</td>\n",
       "      <td>151</td>\n",
       "    </tr>\n",
       "    <tr>\n",
       "      <th>Threatened</th>\n",
       "      <td>9</td>\n",
       "      <td>9</td>\n",
       "      <td>9</td>\n",
       "    </tr>\n",
       "  </tbody>\n",
       "</table>\n",
       "</div>"
      ],
      "text/plain": [
       "                     category  scientific_name  common_names\n",
       "conservation_status                                         \n",
       "Endangered                 15               15            15\n",
       "In Recovery                 3                3             3\n",
       "Not considered           5363             5363          5363\n",
       "Species of Concern        151              151           151\n",
       "Threatened                  9                9             9"
      ]
     },
     "execution_count": 62,
     "metadata": {},
     "output_type": "execute_result"
    }
   ],
   "source": [
    "scientific_name=species_no_duplicates_scientific_name\n",
    "scientific_name.fillna('Not considered', inplace= True)\n",
    "scientific_name.groupby('conservation_status').count()"
   ]
  },
  {
   "cell_type": "markdown",
   "metadata": {},
   "source": [
    "#### Conservation Status count\n",
    "\n",
    "There are a total of 178 species under observation. The number is around 3.2% of the total of species. So, proportionally, there is not a a high number of species under observation. The observed species is distributed as follow>\n",
    "- Endangered: 15 species\n",
    "- Threatened: 9 species\n",
    "- Species of concern: 151 species\n",
    "- In recovery: 3 species\n",
    "\n",
    "However, it is also interesting to look the status for each category:\n",
    "\n",
    "- Mammal: 30 species out 176 of under observation (17%)\n",
    "- Bird: 75 species out 488 of under observation (15.4%)\n",
    "- Reptile: 5 species out 78 of under observation (6.4%)\n",
    "- Amphibian: 7 species out 79 of under observation (8.9%)\n",
    "- Fish: 10 species out 125 of under observation (8%)\n",
    "- Vascular Plant: 46 species out 4262 of under observation (0.09%)\n",
    "- Non-vascular Plant: 5 species out 333 of under observation (1.5%)\n",
    "\n",
    "From these numbers, the category with more species under observations are the 'Mammal' and 'Birds'."
   ]
  },
  {
   "cell_type": "markdown",
   "metadata": {},
   "source": [
    "### Statistical Significance\n",
    "The objective is to check is there is contigency between the Plant and Animal species and their protection status.In order to run a chi squared test, a contingency table will need to be created. The contingency table should look like this:\n",
    "\n",
    "||protected|not protected|\n",
    "|-|-|-|\n",
    "|Animal|?|?|\n",
    "|Plant|?|?|\n",
    "\n"
   ]
  },
  {
   "cell_type": "code",
   "execution_count": 43,
   "metadata": {},
   "outputs": [
    {
     "data": {
      "text/html": [
       "<div>\n",
       "<style scoped>\n",
       "    .dataframe tbody tr th:only-of-type {\n",
       "        vertical-align: middle;\n",
       "    }\n",
       "\n",
       "    .dataframe tbody tr th {\n",
       "        vertical-align: top;\n",
       "    }\n",
       "\n",
       "    .dataframe thead th {\n",
       "        text-align: right;\n",
       "    }\n",
       "</style>\n",
       "<table border=\"1\" class=\"dataframe\">\n",
       "  <thead>\n",
       "    <tr style=\"text-align: right;\">\n",
       "      <th></th>\n",
       "      <th>category</th>\n",
       "      <th>scientific_name</th>\n",
       "      <th>common_names</th>\n",
       "    </tr>\n",
       "    <tr>\n",
       "      <th>conservation_status</th>\n",
       "      <th></th>\n",
       "      <th></th>\n",
       "      <th></th>\n",
       "    </tr>\n",
       "  </thead>\n",
       "  <tbody>\n",
       "    <tr>\n",
       "      <th>Endangered</th>\n",
       "      <td>14</td>\n",
       "      <td>14</td>\n",
       "      <td>14</td>\n",
       "    </tr>\n",
       "    <tr>\n",
       "      <th>In Recovery</th>\n",
       "      <td>3</td>\n",
       "      <td>3</td>\n",
       "      <td>3</td>\n",
       "    </tr>\n",
       "    <tr>\n",
       "      <th>Not considered</th>\n",
       "      <td>819</td>\n",
       "      <td>819</td>\n",
       "      <td>819</td>\n",
       "    </tr>\n",
       "    <tr>\n",
       "      <th>Species of Concern</th>\n",
       "      <td>103</td>\n",
       "      <td>103</td>\n",
       "      <td>103</td>\n",
       "    </tr>\n",
       "    <tr>\n",
       "      <th>Threatened</th>\n",
       "      <td>7</td>\n",
       "      <td>7</td>\n",
       "      <td>7</td>\n",
       "    </tr>\n",
       "  </tbody>\n",
       "</table>\n",
       "</div>"
      ],
      "text/plain": [
       "                     category  scientific_name  common_names\n",
       "conservation_status                                         \n",
       "Endangered                 14               14            14\n",
       "In Recovery                 3                3             3\n",
       "Not considered            819              819           819\n",
       "Species of Concern        103              103           103\n",
       "Threatened                  7                7             7"
      ]
     },
     "execution_count": 43,
     "metadata": {},
     "output_type": "execute_result"
    }
   ],
   "source": [
    "Animals = scientific_name[(scientific_name.category=='Mammal') | (scientific_name.category=='Bird') |\n",
    "                          (scientific_name.category=='Reptile') | (scientific_name.category=='Amphibian') |\n",
    "                          (scientific_name.category=='Fish')]\n",
    "Animals.groupby('conservation_status').count()"
   ]
  },
  {
   "cell_type": "code",
   "execution_count": 44,
   "metadata": {},
   "outputs": [
    {
     "data": {
      "text/html": [
       "<div>\n",
       "<style scoped>\n",
       "    .dataframe tbody tr th:only-of-type {\n",
       "        vertical-align: middle;\n",
       "    }\n",
       "\n",
       "    .dataframe tbody tr th {\n",
       "        vertical-align: top;\n",
       "    }\n",
       "\n",
       "    .dataframe thead th {\n",
       "        text-align: right;\n",
       "    }\n",
       "</style>\n",
       "<table border=\"1\" class=\"dataframe\">\n",
       "  <thead>\n",
       "    <tr style=\"text-align: right;\">\n",
       "      <th></th>\n",
       "      <th>category</th>\n",
       "      <th>scientific_name</th>\n",
       "      <th>common_names</th>\n",
       "    </tr>\n",
       "    <tr>\n",
       "      <th>conservation_status</th>\n",
       "      <th></th>\n",
       "      <th></th>\n",
       "      <th></th>\n",
       "    </tr>\n",
       "  </thead>\n",
       "  <tbody>\n",
       "    <tr>\n",
       "      <th>Endangered</th>\n",
       "      <td>1</td>\n",
       "      <td>1</td>\n",
       "      <td>1</td>\n",
       "    </tr>\n",
       "    <tr>\n",
       "      <th>Not considered</th>\n",
       "      <td>4544</td>\n",
       "      <td>4544</td>\n",
       "      <td>4544</td>\n",
       "    </tr>\n",
       "    <tr>\n",
       "      <th>Species of Concern</th>\n",
       "      <td>48</td>\n",
       "      <td>48</td>\n",
       "      <td>48</td>\n",
       "    </tr>\n",
       "    <tr>\n",
       "      <th>Threatened</th>\n",
       "      <td>2</td>\n",
       "      <td>2</td>\n",
       "      <td>2</td>\n",
       "    </tr>\n",
       "  </tbody>\n",
       "</table>\n",
       "</div>"
      ],
      "text/plain": [
       "                     category  scientific_name  common_names\n",
       "conservation_status                                         \n",
       "Endangered                  1                1             1\n",
       "Not considered           4544             4544          4544\n",
       "Species of Concern         48               48            48\n",
       "Threatened                  2                2             2"
      ]
     },
     "execution_count": 44,
     "metadata": {},
     "output_type": "execute_result"
    }
   ],
   "source": [
    "Plants = scientific_name[(scientific_name.category=='Vascular Plant') | (scientific_name.category=='Nonvascular Plant')]\n",
    "Plants.groupby('conservation_status').count()"
   ]
  },
  {
   "cell_type": "markdown",
   "metadata": {},
   "source": [
    "||Protected|Not protected|\n",
    "|-|-|-|\n",
    "|Animal|127|819|\n",
    "|Plant|51|4544|\n",
    "\n",
    "The first test will be called `contingency1` and will need to be filled with the correct numbers for Plants and Animals.\n",
    "\n",
    "The results from the chi-squared test returns many values, the second value which is 2.38e-87 is the p-value. The standard p-value to test statistical significance is 0.05. For the value retrieved from this test, the value is much smaller than 0.05 which can be take that the difference between Animal and Plants is statistically significant. Animals are shown to have a statistically significant higher rate of needed protection compared with Plants. "
   ]
  },
  {
   "cell_type": "code",
   "execution_count": 45,
   "metadata": {},
   "outputs": [
    {
     "data": {
      "text/plain": [
       "Chi2ContingencyResult(statistic=378.705864329933, pvalue=2.3807629908783554e-84, dof=1, expected_freq=array([[  30.38946039,  915.61053961],\n",
       "       [ 147.61053961, 4447.38946039]]))"
      ]
     },
     "execution_count": 45,
     "metadata": {},
     "output_type": "execute_result"
    }
   ],
   "source": [
    "from scipy.stats import chi2_contingency\n",
    "\n",
    "contingency1 = [[127, 819],\n",
    "              [51, 4544]]\n",
    "chi2_contingency(contingency1)"
   ]
  },
  {
   "cell_type": "markdown",
   "metadata": {},
   "source": [
    "#### Most Common Species\n",
    "\n",
    "We check the 'species' Dataframe to check wich species are the most common. We will check the most frequent inside the common name column."
   ]
  },
  {
   "cell_type": "code",
   "execution_count": 63,
   "metadata": {},
   "outputs": [],
   "source": [
    "from collections import Counter\n",
    "import re\n",
    "\n",
    "def extract_words(text):\n",
    "    words = re.findall(r'\\w+', text.lower())\n",
    "    return words"
   ]
  },
  {
   "cell_type": "code",
   "execution_count": 64,
   "metadata": {},
   "outputs": [
    {
     "name": "stdout",
     "output_type": "stream",
     "text": [
      "0                             Gapper's Red-Backed Vole\n",
      "1                                American Bison, Bison\n",
      "2    Aurochs, Aurochs, Domestic Cattle (Feral), Dom...\n",
      "3    Domestic Sheep, Mouflon, Red Sheep, Sheep (Feral)\n",
      "4                    Wapiti Or Elk, Rocky Mountain Elk\n",
      "Name: common_names, dtype: object\n"
     ]
    }
   ],
   "source": [
    "print(species_no_duplicates_scientific_name['common_names'].head())"
   ]
  },
  {
   "cell_type": "code",
   "execution_count": 65,
   "metadata": {},
   "outputs": [
    {
     "name": "stderr",
     "output_type": "stream",
     "text": [
      "C:\\Users\\Andriatinavola.Luc\\AppData\\Local\\Temp\\ipykernel_4572\\1679012711.py:1: SettingWithCopyWarning: \n",
      "A value is trying to be set on a copy of a slice from a DataFrame.\n",
      "Try using .loc[row_indexer,col_indexer] = value instead\n",
      "\n",
      "See the caveats in the documentation: https://pandas.pydata.org/pandas-docs/stable/user_guide/indexing.html#returning-a-view-versus-a-copy\n",
      "  species_no_duplicates_scientific_name['names']=species_no_duplicates_scientific_name['common_names'].apply(extract_words)\n"
     ]
    }
   ],
   "source": [
    "species_no_duplicates_scientific_name['names']=species_no_duplicates_scientific_name['common_names'].apply(extract_words)\n",
    "common_names=[name for names in species_no_duplicates_scientific_name['names'] for name in names]\n",
    "print(cmmon)"
   ]
  },
  {
   "cell_type": "markdown",
   "metadata": {},
   "source": [
    "#### Endangered Species"
   ]
  },
  {
   "cell_type": "code",
   "execution_count": 9,
   "metadata": {},
   "outputs": [
    {
     "name": "stdout",
     "output_type": "stream",
     "text": [
      "The following species are in danger of extinction:\n",
      " - Canis lupus\n",
      " - Canis rufus\n",
      " - Myotis grisescens\n",
      " - Myotis sodalis\n",
      " - Glaucomys sabrinus coloratus\n",
      " - Grus americana\n",
      " - Vermivora bachmanii\n",
      " - Picoides borealis\n",
      " - Etheostoma percnurum\n",
      " - Noturus baileyi\n",
      " - Geum radiatum\n",
      " - Chasmistes liorus\n",
      " - Ovis canadensis sierrae\n",
      " - Gymnogyps californianus\n",
      " - Rana sierrae\n"
     ]
    }
   ],
   "source": [
    "print('The following species are in danger of extinction:')\n",
    "endangered_species = scientific_name.scientific_name[scientific_name.conservation_status=='Endangered']\n",
    "for a in endangered_species:\n",
    "    print(' - '+a)"
   ]
  },
  {
   "cell_type": "code",
   "execution_count": 10,
   "metadata": {},
   "outputs": [
    {
     "data": {
      "text/html": [
       "<div>\n",
       "<style scoped>\n",
       "    .dataframe tbody tr th:only-of-type {\n",
       "        vertical-align: middle;\n",
       "    }\n",
       "\n",
       "    .dataframe tbody tr th {\n",
       "        vertical-align: top;\n",
       "    }\n",
       "\n",
       "    .dataframe thead th {\n",
       "        text-align: right;\n",
       "    }\n",
       "</style>\n",
       "<table border=\"1\" class=\"dataframe\">\n",
       "  <thead>\n",
       "    <tr style=\"text-align: right;\">\n",
       "      <th></th>\n",
       "      <th>category</th>\n",
       "      <th>scientific_name</th>\n",
       "      <th>common_names</th>\n",
       "    </tr>\n",
       "    <tr>\n",
       "      <th>conservation_status</th>\n",
       "      <th></th>\n",
       "      <th></th>\n",
       "      <th></th>\n",
       "    </tr>\n",
       "  </thead>\n",
       "  <tbody>\n",
       "    <tr>\n",
       "      <th>Endangered</th>\n",
       "      <td>4</td>\n",
       "      <td>4</td>\n",
       "      <td>4</td>\n",
       "    </tr>\n",
       "    <tr>\n",
       "      <th>In Recovery</th>\n",
       "      <td>3</td>\n",
       "      <td>3</td>\n",
       "      <td>3</td>\n",
       "    </tr>\n",
       "    <tr>\n",
       "      <th>Not considered</th>\n",
       "      <td>413</td>\n",
       "      <td>413</td>\n",
       "      <td>413</td>\n",
       "    </tr>\n",
       "    <tr>\n",
       "      <th>Species of Concern</th>\n",
       "      <td>68</td>\n",
       "      <td>68</td>\n",
       "      <td>68</td>\n",
       "    </tr>\n",
       "  </tbody>\n",
       "</table>\n",
       "</div>"
      ],
      "text/plain": [
       "                     category  scientific_name  common_names\n",
       "conservation_status                                         \n",
       "Endangered                  4                4             4\n",
       "In Recovery                 3                3             3\n",
       "Not considered            413              413           413\n",
       "Species of Concern         68               68            68"
      ]
     },
     "execution_count": 10,
     "metadata": {},
     "output_type": "execute_result"
    }
   ],
   "source": [
    "scientific_name[scientific_name.category=='Bird'].groupby('conservation_status').count()"
   ]
  },
  {
   "cell_type": "markdown",
   "metadata": {},
   "source": [
    "The 'Bird' category has 4 endangered species."
   ]
  },
  {
   "cell_type": "code",
   "execution_count": 11,
   "metadata": {},
   "outputs": [
    {
     "name": "stdout",
     "output_type": "stream",
     "text": [
      " - Grus americana\n",
      " - Vermivora bachmanii\n",
      " - Picoides borealis\n",
      " - Gymnogyps californianus\n"
     ]
    }
   ],
   "source": [
    "endangered_species = scientific_name.scientific_name[\n",
    "    (scientific_name.conservation_status=='Endangered') & (scientific_name.category=='Bird')]\n",
    "for a in endangered_species:\n",
    "    print(' - '+a)"
   ]
  },
  {
   "cell_type": "code",
   "execution_count": 12,
   "metadata": {},
   "outputs": [
    {
     "data": {
      "text/html": [
       "<div>\n",
       "<style scoped>\n",
       "    .dataframe tbody tr th:only-of-type {\n",
       "        vertical-align: middle;\n",
       "    }\n",
       "\n",
       "    .dataframe tbody tr th {\n",
       "        vertical-align: top;\n",
       "    }\n",
       "\n",
       "    .dataframe thead th {\n",
       "        text-align: right;\n",
       "    }\n",
       "</style>\n",
       "<table border=\"1\" class=\"dataframe\">\n",
       "  <thead>\n",
       "    <tr style=\"text-align: right;\">\n",
       "      <th></th>\n",
       "      <th>category</th>\n",
       "      <th>scientific_name</th>\n",
       "      <th>common_names</th>\n",
       "    </tr>\n",
       "    <tr>\n",
       "      <th>conservation_status</th>\n",
       "      <th></th>\n",
       "      <th></th>\n",
       "      <th></th>\n",
       "    </tr>\n",
       "  </thead>\n",
       "  <tbody>\n",
       "    <tr>\n",
       "      <th>Endangered</th>\n",
       "      <td>6</td>\n",
       "      <td>6</td>\n",
       "      <td>6</td>\n",
       "    </tr>\n",
       "    <tr>\n",
       "      <th>Not considered</th>\n",
       "      <td>146</td>\n",
       "      <td>146</td>\n",
       "      <td>146</td>\n",
       "    </tr>\n",
       "    <tr>\n",
       "      <th>Species of Concern</th>\n",
       "      <td>22</td>\n",
       "      <td>22</td>\n",
       "      <td>22</td>\n",
       "    </tr>\n",
       "    <tr>\n",
       "      <th>Threatened</th>\n",
       "      <td>2</td>\n",
       "      <td>2</td>\n",
       "      <td>2</td>\n",
       "    </tr>\n",
       "  </tbody>\n",
       "</table>\n",
       "</div>"
      ],
      "text/plain": [
       "                     category  scientific_name  common_names\n",
       "conservation_status                                         \n",
       "Endangered                  6                6             6\n",
       "Not considered            146              146           146\n",
       "Species of Concern         22               22            22\n",
       "Threatened                  2                2             2"
      ]
     },
     "execution_count": 12,
     "metadata": {},
     "output_type": "execute_result"
    }
   ],
   "source": [
    "scientific_name[scientific_name.category=='Mammal'].groupby('conservation_status').count()"
   ]
  },
  {
   "cell_type": "markdown",
   "metadata": {},
   "source": [
    "The 'Mammal' category has 6 endangered species."
   ]
  },
  {
   "cell_type": "code",
   "execution_count": 13,
   "metadata": {},
   "outputs": [
    {
     "name": "stdout",
     "output_type": "stream",
     "text": [
      " - Canis lupus\n",
      " - Canis rufus\n",
      " - Myotis grisescens\n",
      " - Myotis sodalis\n",
      " - Glaucomys sabrinus coloratus\n",
      " - Ovis canadensis sierrae\n"
     ]
    }
   ],
   "source": [
    "endangered_species = scientific_name.scientific_name[\n",
    "    (scientific_name.conservation_status=='Endangered') & (scientific_name.category=='Mammal')]\n",
    "for a in endangered_species:\n",
    "    print(' - '+a)"
   ]
  },
  {
   "cell_type": "code",
   "execution_count": 14,
   "metadata": {},
   "outputs": [
    {
     "data": {
      "text/html": [
       "<div>\n",
       "<style scoped>\n",
       "    .dataframe tbody tr th:only-of-type {\n",
       "        vertical-align: middle;\n",
       "    }\n",
       "\n",
       "    .dataframe tbody tr th {\n",
       "        vertical-align: top;\n",
       "    }\n",
       "\n",
       "    .dataframe thead th {\n",
       "        text-align: right;\n",
       "    }\n",
       "</style>\n",
       "<table border=\"1\" class=\"dataframe\">\n",
       "  <thead>\n",
       "    <tr style=\"text-align: right;\">\n",
       "      <th></th>\n",
       "      <th>scientific_name</th>\n",
       "      <th>common_names</th>\n",
       "      <th>conservation_status</th>\n",
       "    </tr>\n",
       "    <tr>\n",
       "      <th>category</th>\n",
       "      <th></th>\n",
       "      <th></th>\n",
       "      <th></th>\n",
       "    </tr>\n",
       "  </thead>\n",
       "  <tbody>\n",
       "    <tr>\n",
       "      <th>Amphibian</th>\n",
       "      <td>1</td>\n",
       "      <td>1</td>\n",
       "      <td>1</td>\n",
       "    </tr>\n",
       "    <tr>\n",
       "      <th>Bird</th>\n",
       "      <td>4</td>\n",
       "      <td>4</td>\n",
       "      <td>4</td>\n",
       "    </tr>\n",
       "    <tr>\n",
       "      <th>Fish</th>\n",
       "      <td>3</td>\n",
       "      <td>3</td>\n",
       "      <td>3</td>\n",
       "    </tr>\n",
       "    <tr>\n",
       "      <th>Mammal</th>\n",
       "      <td>6</td>\n",
       "      <td>6</td>\n",
       "      <td>6</td>\n",
       "    </tr>\n",
       "    <tr>\n",
       "      <th>Vascular Plant</th>\n",
       "      <td>1</td>\n",
       "      <td>1</td>\n",
       "      <td>1</td>\n",
       "    </tr>\n",
       "  </tbody>\n",
       "</table>\n",
       "</div>"
      ],
      "text/plain": [
       "                scientific_name  common_names  conservation_status\n",
       "category                                                          \n",
       "Amphibian                     1             1                    1\n",
       "Bird                          4             4                    4\n",
       "Fish                          3             3                    3\n",
       "Mammal                        6             6                    6\n",
       "Vascular Plant                1             1                    1"
      ]
     },
     "execution_count": 14,
     "metadata": {},
     "output_type": "execute_result"
    }
   ],
   "source": [
    "scientific_name[scientific_name.conservation_status=='Endangered'].groupby('category').count()"
   ]
  },
  {
   "cell_type": "code",
   "execution_count": 43,
   "metadata": {},
   "outputs": [
    {
     "data": {
      "image/png": "[encoded data removed]",
      "text/plain": [
       "<Figure size 640x480 with 1 Axes>"
      ]
     },
     "metadata": {},
     "output_type": "display_data"
    }
   ],
   "source": [
    "conservation_rank=['Endangered','Threatened','Species of Concern','In Recovery','Not considered']\n",
    "sns.countplot(x='conservation_status',data=scientific_name,order=conservation_rank)\n",
    "plt.yscale('log')\n",
    "plt.xlabel('Conservation Status')\n",
    "plt.ylabel('Number of Species')\n",
    "plt.xticks(rotation=30)\n",
    "plt.show()"
   ]
  },
  {
   "cell_type": "code",
   "execution_count": 23,
   "metadata": {},
   "outputs": [
    {
     "name": "stdout",
     "output_type": "stream",
     "text": [
      "<class 'pandas.core.frame.DataFrame'>\n",
      "RangeIndex: 23296 entries, 0 to 23295\n",
      "Data columns (total 5 columns):\n",
      " #   Column               Non-Null Count  Dtype \n",
      "---  ------               --------------  ----- \n",
      " 0   scientific_name      23296 non-null  object\n",
      " 1   park_name            23296 non-null  object\n",
      " 2   observations         23296 non-null  int64 \n",
      " 3   conservation_status  23296 non-null  object\n",
      " 4   category             23296 non-null  object\n",
      "dtypes: int64(1), object(4)\n",
      "memory usage: 910.1+ KB\n"
     ]
    }
   ],
   "source": [
    "observations_status = observations.merge(\n",
    "    species_no_duplicates_scientific_name[['scientific_name', 'conservation_status']], on='scientific_name', how='left')\n",
    "observations_status = observations_status.merge(\n",
    "    species_no_duplicates_scientific_name[['scientific_name', 'category']], on='scientific_name', how='left')\n",
    "observations_status.info()"
   ]
  },
  {
   "cell_type": "code",
   "execution_count": 24,
   "metadata": {},
   "outputs": [
    {
     "name": "stdout",
     "output_type": "stream",
     "text": [
      "                   observations\n",
      "category                       \n",
      "Amphibian                 43971\n",
      "Bird                     292833\n",
      "Fish                      70818\n",
      "Mammal                   116696\n",
      "Nonvascular Plant        190653\n",
      "Reptile                   44678\n",
      "Vascular Plant          2555090\n"
     ]
    }
   ],
   "source": [
    "print(observations_status.groupby('category').sum('observations'))"
   ]
  },
  {
   "cell_type": "code",
   "execution_count": 26,
   "metadata": {},
   "outputs": [
    {
     "data": {
      "text/html": [
       "<div>\n",
       "<style scoped>\n",
       "    .dataframe tbody tr th:only-of-type {\n",
       "        vertical-align: middle;\n",
       "    }\n",
       "\n",
       "    .dataframe tbody tr th {\n",
       "        vertical-align: top;\n",
       "    }\n",
       "\n",
       "    .dataframe thead th {\n",
       "        text-align: right;\n",
       "    }\n",
       "</style>\n",
       "<table border=\"1\" class=\"dataframe\">\n",
       "  <thead>\n",
       "    <tr style=\"text-align: right;\">\n",
       "      <th></th>\n",
       "      <th>scientific_name</th>\n",
       "      <th>common_names</th>\n",
       "      <th>conservation_status</th>\n",
       "    </tr>\n",
       "    <tr>\n",
       "      <th>category</th>\n",
       "      <th></th>\n",
       "      <th></th>\n",
       "      <th></th>\n",
       "    </tr>\n",
       "  </thead>\n",
       "  <tbody>\n",
       "    <tr>\n",
       "      <th>Amphibian</th>\n",
       "      <td>79</td>\n",
       "      <td>79</td>\n",
       "      <td>79</td>\n",
       "    </tr>\n",
       "    <tr>\n",
       "      <th>Bird</th>\n",
       "      <td>488</td>\n",
       "      <td>488</td>\n",
       "      <td>488</td>\n",
       "    </tr>\n",
       "    <tr>\n",
       "      <th>Fish</th>\n",
       "      <td>125</td>\n",
       "      <td>125</td>\n",
       "      <td>125</td>\n",
       "    </tr>\n",
       "    <tr>\n",
       "      <th>Mammal</th>\n",
       "      <td>176</td>\n",
       "      <td>176</td>\n",
       "      <td>176</td>\n",
       "    </tr>\n",
       "    <tr>\n",
       "      <th>Nonvascular Plant</th>\n",
       "      <td>333</td>\n",
       "      <td>333</td>\n",
       "      <td>333</td>\n",
       "    </tr>\n",
       "    <tr>\n",
       "      <th>Reptile</th>\n",
       "      <td>78</td>\n",
       "      <td>78</td>\n",
       "      <td>78</td>\n",
       "    </tr>\n",
       "    <tr>\n",
       "      <th>Vascular Plant</th>\n",
       "      <td>4262</td>\n",
       "      <td>4262</td>\n",
       "      <td>4262</td>\n",
       "    </tr>\n",
       "  </tbody>\n",
       "</table>\n",
       "</div>"
      ],
      "text/plain": [
       "                   scientific_name  common_names  conservation_status\n",
       "category                                                             \n",
       "Amphibian                       79            79                   79\n",
       "Bird                           488           488                  488\n",
       "Fish                           125           125                  125\n",
       "Mammal                         176           176                  176\n",
       "Nonvascular Plant              333           333                  333\n",
       "Reptile                         78            78                   78\n",
       "Vascular Plant                4262          4262                 4262"
      ]
     },
     "execution_count": 26,
     "metadata": {},
     "output_type": "execute_result"
    }
   ],
   "source": [
    "species_no_duplicates_scientific_name.groupby('category').count()"
   ]
  },
  {
   "cell_type": "markdown",
   "metadata": {},
   "source": [
    "Compared to the number of censused species, the numbers of observed specimen for each category have similar shape. The higher number of observations is for Vascular Plants and Birds."
   ]
  },
  {
   "cell_type": "code",
   "execution_count": null,
   "metadata": {},
   "outputs": [],
   "source": []
  }
 ],
 "metadata": {
  "kernelspec": {
   "display_name": "Python 3 (ipykernel)",
   "language": "python",
   "name": "python3"
  },
  "language_info": {
   "codemirror_mode": {
    "name": "ipython",
    "version": 3
   },
   "file_extension": ".py",
   "mimetype": "text/x-python",
   "name": "python",
   "nbconvert_exporter": "python",
   "pygments_lexer": "ipython3",
   "version": "3.10.9"
  }
 },
 "nbformat": 4,
 "nbformat_minor": 4
}
